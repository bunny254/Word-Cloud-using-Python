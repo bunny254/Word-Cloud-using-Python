{
 "cells": [
  {
   "cell_type": "code",
   "execution_count": 13,
   "id": "d971771f-6559-473c-8503-cb4bb71d2c03",
   "metadata": {},
   "outputs": [
    {
     "data": {
      "text/plain": [
       "<wordcloud.wordcloud.WordCloud at 0x1a520d1ff40>"
      ]
     },
     "execution_count": 13,
     "metadata": {},
     "output_type": "execute_result"
    }
   ],
   "source": [
    "import pandas as pd\n",
    "import matplotlib.pyplot as plt\n",
    "from wordcloud import WordCloud, STOPWORDS, ImageColorGenerator\n",
    "import sys, os\n",
    "\n",
    "\n",
    "text=open('wordcroro.txt', mode='r', encoding='utf-8').read()\n",
    "stopwords= STOPWORDS\n",
    "\n",
    "wc= WordCloud(\n",
    "                background_color='white',\n",
    "                stopwords=stopwords,\n",
    "                height=600,\n",
    "                width=600\n",
    ")\n",
    "wc.generate(text)\n",
    "wc.to_file('ronaldocloud_output.png')\n"
   ]
  },
  {
   "cell_type": "code",
   "execution_count": null,
   "id": "81b46b35-b44f-4843-b906-f5dda4333350",
   "metadata": {},
   "outputs": [],
   "source": []
  }
 ],
 "metadata": {
  "kernelspec": {
   "display_name": "Python 3",
   "language": "python",
   "name": "python3"
  },
  "language_info": {
   "codemirror_mode": {
    "name": "ipython",
    "version": 3
   },
   "file_extension": ".py",
   "mimetype": "text/x-python",
   "name": "python",
   "nbconvert_exporter": "python",
   "pygments_lexer": "ipython3",
   "version": "3.8.8"
  },
  "toc-showcode": false,
  "toc-showmarkdowntxt": true
 },
 "nbformat": 4,
 "nbformat_minor": 5
}
